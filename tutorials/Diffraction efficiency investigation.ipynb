{
 "cells": [
  {
   "cell_type": "markdown",
   "metadata": {},
   "source": [
    "Construct a GMOT:"
   ]
  },
  {
   "cell_type": "code",
   "execution_count": null,
   "metadata": {},
   "outputs": [],
   "source": [
    "from MOTorNOT.gmot import gratingMOT\n",
    "from MOTorNOT.coils import QuadrupoleCoils\n",
    "import numpy as np\n",
    "\n",
    "coils = QuadrupoleCoils(radius=0.1, offset=0.1, turns=50, current=1e-9, axis=2, deltaI=0)\n",
    "linewidth = 2*np.pi*29e6\n",
    "\n",
    "gmot = gratingMOT(position = 3e-3, \n",
    "                  alpha = 60, \n",
    "                  detuning = -linewidth/2, \n",
    "                  radius = 10e-3, \n",
    "                  power = 20e-3, \n",
    "                  handedness = -1, \n",
    "                  R1 = 0.2501, \n",
    "                  field = coils.field,\n",
    "                  sectors=4)\n",
    "gmot.plot('yz', limits=[(-12e-3, 12e-3), (-3e-3, 4e-3)], numpoints=80, quiver_scale=5)"
   ]
  },
  {
   "cell_type": "markdown",
   "metadata": {},
   "source": [
    "What if the diffraction efficiency is too high, pushing the potential minimum upwards? We can compensate with a coil current imbalance. To determine the necessary imbalance, we can calculate the force vs $z$ at $x=y=0$ and find the location of the trap zero:"
   ]
  },
  {
   "cell_type": "code",
   "execution_count": null,
   "metadata": {},
   "outputs": [],
   "source": [
    "import matplotlib.pyplot as plt\n",
    "\n",
    "\n",
    "def calculate_zero(R1, plot=False, deltaI=0):\n",
    "    coils = QuadrupoleCoils(radius=0.1, offset=0.1, turns=50, current=50, axis=2, deltaI=deltaI)\n",
    "    gmot = gratingMOT(position = 4e-3, \n",
    "                      alpha = 60, \n",
    "                      detuning = -2*linewidth, \n",
    "                      radius = 8e-3, \n",
    "                      power = 20e-3, \n",
    "                      handedness = -1, \n",
    "                      R1 = R1, \n",
    "                      field = coils.field,\n",
    "                      sectors=4)\n",
    "    X = np.zeros((100, 3))\n",
    "    V = np.zeros(X.shape)\n",
    "\n",
    "    z = np.linspace(-4e-3, 1e-3, X.shape[0])\n",
    "    X[:, 2] = z\n",
    "    fz = gmot.force(X, V)[:, 2]\n",
    "\n",
    "    if plot:\n",
    "        plt.plot(z*1000, fz)\n",
    "        plt.xlabel('z (mm)')\n",
    "        plt.ylabel('Force (N)')\n",
    "\n",
    "    zero = z[np.argmin(np.abs(fz))]\n",
    "    return zero\n",
    "\n",
    "calculate_zero(0.25, plot=True)"
   ]
  },
  {
   "cell_type": "markdown",
   "metadata": {},
   "source": [
    "Now we'll study the zero offset vs. diffraction efficiency:"
   ]
  },
  {
   "cell_type": "code",
   "execution_count": null,
   "metadata": {},
   "outputs": [],
   "source": [
    "R1 = np.linspace(0.15, 0.3, 100)\n",
    "zero = []\n",
    "for r in R1:\n",
    "    zero.append(calculate_zero(r, deltaI=0))\n",
    "    \n",
    "plt.plot(R1, zero)\n",
    "plt.xlabel('Diffraction efficiency')\n",
    "plt.ylabel('Zero offset (mm)')"
   ]
  },
  {
   "cell_type": "markdown",
   "metadata": {},
   "source": [
    "Let's visualize this in 2D: just how much of an imbalance can we compensate with a quadrupole offset?"
   ]
  },
  {
   "cell_type": "code",
   "execution_count": null,
   "metadata": {},
   "outputs": [],
   "source": [
    "numpoints = 80\n",
    "R1 = np.linspace(0.1, 0.43, numpoints)\n",
    "deltaI = np.linspace(-30, 50, numpoints)\n",
    "\n",
    "pairs = np.transpose(np.meshgrid(R1, deltaI)).reshape(-1, 2)\n",
    "result = []\n",
    "for pair in pairs:\n",
    "    result = np.append(result, calculate_zero(pair[0], deltaI=pair[1]))\n",
    "\n",
    "import plotly.graph_objs as go\n",
    "fig = go.Figure([go.Heatmap(x=R1, y=deltaI, z=result.reshape(numpoints, numpoints).T, \n",
    "                            colorscale='Viridis', \n",
    "                            colorbar={'title': 'Trap offset (mm)', 'titleside': 'right'})])\n",
    "fig.update_layout(\n",
    "    xaxis=go.layout.XAxis(title=go.layout.xaxis.Title(text='Diffraction efficiency')),\n",
    "    yaxis=go.layout.YAxis(title=go.layout.yaxis.Title(text='Current differential (A)'))\n",
    "    )\n",
    "fig.show() "
   ]
  },
  {
   "cell_type": "code",
   "execution_count": null,
   "metadata": {},
   "outputs": [],
   "source": []
  }
 ],
 "metadata": {
  "kernelspec": {
   "display_name": "Python 3",
   "language": "python",
   "name": "python3"
  },
  "language_info": {
   "codemirror_mode": {
    "name": "ipython",
    "version": 3
   },
   "file_extension": ".py",
   "mimetype": "text/x-python",
   "name": "python",
   "nbconvert_exporter": "python",
   "pygments_lexer": "ipython3",
   "version": "3.7.3"
  },
  "toc": {
   "base_numbering": 1,
   "nav_menu": {},
   "number_sections": true,
   "sideBar": true,
   "skip_h1_title": false,
   "title_cell": "Table of Contents",
   "title_sidebar": "Contents",
   "toc_cell": false,
   "toc_position": {},
   "toc_section_display": true,
   "toc_window_display": true
  }
 },
 "nbformat": 4,
 "nbformat_minor": 2
}

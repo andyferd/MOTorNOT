{
 "cells": [
  {
   "cell_type": "code",
   "execution_count": null,
   "metadata": {},
   "outputs": [],
   "source": [
    "%matplotlib inline\n",
    "import numpy as np\n",
    "from parametric import Attribute, parametrize\n",
    "from optimistic import experiment\n",
    "from MOTorNOT import GratingMOT, QuadrupoleCoils\n",
    "from MOTorNOT.integration import Solver, generate_initial_conditions\n",
    "\n",
    "linewidth = 2*np.pi*29e6\n",
    "\n",
    "@parametrize\n",
    "class MOT:\n",
    "    coil_current = Attribute('coil_current', 30)\n",
    "    coil_delta = Attribute('coil_delta', -2)\n",
    "    \n",
    "    detuning = Attribute('detuning', -1.8*linewidth)\n",
    "#     detuning = Attribute('detuning', -0.5*linewidth)\n",
    "\n",
    "    alpha = Attribute('alpha', 30)\n",
    "#     radius = Attribute('radius', 10e-3)\n",
    "#     power = Attribute('power', 20e-3)\n",
    "    radius = Attribute('radius', 40e-3)\n",
    "    power = Attribute('power', 10e-3 * 16)\n",
    "    sectors = Attribute('sectors', 3)\n",
    "    cutoff = Attribute('cutoff', 10e-3)\n",
    "    position = Attribute('position', 9e-3)\n",
    "    beam_position = Attribute('beam_position', 0)\n",
    "    \n",
    "    def make_gmot(self):\n",
    "        field = QuadrupoleCoils(radius=0.1, \n",
    "                                offset=0.1, \n",
    "                                turns=100, \n",
    "                                current=self.coil_current(), \n",
    "                                axis=2, deltaI=self.coil_delta()).field\n",
    "        gmot = GratingMOT(position = self.position(), \n",
    "                          alpha = self.alpha(), \n",
    "                          detuning = self.detuning(), \n",
    "                          radius = self.radius(), \n",
    "                          power = self.power(), \n",
    "                          handedness = -1, \n",
    "                          R1 = 1/self.sectors(), \n",
    "                          field = field,\n",
    "                          sectors=self.sectors(),\n",
    "                          beam_type='gaussian',\n",
    "                          grating_radius=self.cutoff())\n",
    "        return gmot \n",
    "    \n",
    "    @experiment(parallel=True)\n",
    "    def capture_velocity(self):\n",
    "        gmot = self.make_gmot()\n",
    "        X0, V0 = generate_initial_conditions(-self.position(), np.linspace(1, 100, 400), phi=90, theta=0)\n",
    "        sol = Solver(gmot.acceleration, X0, V0).run(20e-2, dt=1e-5)           \n",
    "        vi, vf = sol.capture_velocity()\n",
    "        return vf\n",
    "\n",
    "mot = MOT()"
   ]
  },
  {
   "cell_type": "code",
   "execution_count": null,
   "metadata": {},
   "outputs": [],
   "source": [
    "mot.make_gmot().plot('xz', numpoints=50, limits=([-.01, .01], [-.008, .009]), quiver_scale=50, component='radial', midpoint=.5)\n",
    "\n",
    "# mot.make_gmot().plot('xz', numpoints=80, limits=([-.003, .003], [-.002, .005]), quiver_scale=50, component='radial')   # uniform trap center\n",
    "# mot.make_gmot().plot('xz', numpoints=50, limits=([-.002, .002], [-.005, .004]), quiver_scale=50, component='radial', midpoint=1)  # gaussian trap center\n"
   ]
  },
  {
   "cell_type": "code",
   "execution_count": null,
   "metadata": {},
   "outputs": [],
   "source": [
    "def axial_projection(x, v):\n",
    "    ''' Returns the axial projection of a vector v at position x '''\n",
    "    X = np.atleast_2d(x)\n",
    "    V = np.atleast_2d(v)\n",
    "\n",
    "    zhat = np.array([0, 0, np.sign(X[:, 2])])\n",
    "\n",
    "    return (zhat*V).sum(axis=1)    \n",
    "\n",
    "axial_projection([0, 0, -1], [0, 0, -1])"
   ]
  },
  {
   "cell_type": "code",
   "execution_count": null,
   "metadata": {},
   "outputs": [],
   "source": [
    "## run a 1D study\n",
    "from optimistic.algorithms import ParallelGridSearch\n",
    "# grid = ParallelGridSearch.study(mot.capture_velocity, mot.detuning, (-5*linewidth, 0), steps=50)\n",
    "grid = ParallelGridSearch.study(mot.capture_velocity, mot.coil_delta, (-10, 5), steps=50)"
   ]
  },
  {
   "cell_type": "code",
   "execution_count": null,
   "metadata": {},
   "outputs": [],
   "source": [
    "grid.data"
   ]
  },
  {
   "cell_type": "code",
   "execution_count": null,
   "metadata": {},
   "outputs": [],
   "source": [
    "from optimistic.algorithms import ParallelGridSearch\n",
    "\n",
    "grid = ParallelGridSearch(mot.capture_velocity, steps=50)\n",
    "grid.add_parameter(mot.alpha, (15, 60))\n",
    "grid.add_parameter(mot.sectors, points=[3, 4, 6, 8])\n",
    "grid.run()"
   ]
  },
  {
   "cell_type": "code",
   "execution_count": null,
   "metadata": {},
   "outputs": [],
   "source": [
    "import matplotlib.pyplot as plt\n",
    "\n",
    "def plot_curves(self, x, y):\n",
    "    z = self.experiment.__name__\n",
    "    for x0, df in self.data.groupby(y):\n",
    "        plt.plot(df[x], df[z], label=f'{y}={np.round(x0, 3)}')\n",
    "    plt.legend(loc=(1.04,0))\n",
    "    plt.xlabel(x)\n",
    "    plt.ylabel(z)\n",
    "plot_curves(grid, 'detuning', 'coil_current')"
   ]
  },
  {
   "cell_type": "code",
   "execution_count": null,
   "metadata": {},
   "outputs": [],
   "source": [
    "grid.plot.curves('alpha', 'sectors')"
   ]
  },
  {
   "cell_type": "code",
   "execution_count": null,
   "metadata": {},
   "outputs": [],
   "source": [
    "-3.346758e+08/linewidth"
   ]
  },
  {
   "cell_type": "code",
   "execution_count": null,
   "metadata": {},
   "outputs": [],
   "source": []
  }
 ],
 "metadata": {
  "kernelspec": {
   "display_name": "Python 3",
   "language": "python",
   "name": "python3"
  },
  "language_info": {
   "codemirror_mode": {
    "name": "ipython",
    "version": 3
   },
   "file_extension": ".py",
   "mimetype": "text/x-python",
   "name": "python",
   "nbconvert_exporter": "python",
   "pygments_lexer": "ipython3",
   "version": "3.6.6"
  },
  "toc": {
   "base_numbering": 1,
   "nav_menu": {},
   "number_sections": false,
   "sideBar": true,
   "skip_h1_title": false,
   "title_cell": "Table of Contents",
   "title_sidebar": "Contents",
   "toc_cell": false,
   "toc_position": {},
   "toc_section_display": true,
   "toc_window_display": false
  }
 },
 "nbformat": 4,
 "nbformat_minor": 2
}

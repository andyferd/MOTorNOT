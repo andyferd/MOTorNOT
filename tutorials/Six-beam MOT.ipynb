{
 "cells": [
  {
   "cell_type": "markdown",
   "metadata": {},
   "source": [
    "# Trap definition"
   ]
  },
  {
   "cell_type": "code",
   "execution_count": null,
   "metadata": {},
   "outputs": [],
   "source": [
    "from MOTorNOT.beams import *\n",
    "from MOTorNOT.coils import *\n",
    "from MOTorNOT import load_parameters\n",
    "atom = load_parameters()['atom']\n",
    "\n",
    "linewidth = 2*np.pi*atom['gamma']\n",
    "\n",
    "coils = QuadrupoleCoils(radius = 0.08,\n",
    "                        offset = 0.08,\n",
    "                        turns = 50,\n",
    "                        current = 55,\n",
    "                        axis = 2)\n",
    "    \n",
    "mot = SixBeamMOT(power=15e-3, radius=10e-3, detuning=-linewidth/4, handedness=1, field=coils.field)\n",
    "\n",
    "# mot.plot()\n"
   ]
  },
  {
   "cell_type": "markdown",
   "metadata": {},
   "source": [
    "# Solve equations of motion"
   ]
  },
  {
   "cell_type": "code",
   "execution_count": null,
   "metadata": {},
   "outputs": [],
   "source": [
    "from MOTorNOT.integration import *\n",
    "\n",
    "x0 = -20e-3\n",
    "v0 = np.linspace(.1, 40, 55)\n",
    "x, v = generate_initial_conditions(x0, v0, theta=90, phi=60)\n",
    "\n",
    "sol = Solver(x, v, mot.force, 0.2, dt=1e-4)\n",
    "atoms = sol.solve()\n",
    "\n",
    "## find trapped atoms\n",
    "trapped_atoms = []\n",
    "for atom in atoms:\n",
    "    r = np.sqrt(np.square(atom.x.iloc[-1]).sum(axis=0))\n",
    "    v = np.sqrt(np.square(atom.v.iloc[-1]).sum(axis=0))\n",
    "\n",
    "    if r < 1e-3 and v < 1e-3:\n",
    "        trapped_atoms.append(atom)"
   ]
  },
  {
   "cell_type": "code",
   "execution_count": null,
   "metadata": {},
   "outputs": [],
   "source": [
    "## visualize force in phase space\n",
    "from MOTorNOT.analysis import *\n",
    "trajectories(mot, trapped_atoms, plane='xy')\n",
    "phase_space_trajectories(mot, trapped_atoms, axis='x')"
   ]
  },
  {
   "cell_type": "code",
   "execution_count": null,
   "metadata": {},
   "outputs": [],
   "source": []
  }
 ],
 "metadata": {
  "kernelspec": {
   "display_name": "Python 3",
   "language": "python",
   "name": "python3"
  },
  "language_info": {
   "codemirror_mode": {
    "name": "ipython",
    "version": 3
   },
   "file_extension": ".py",
   "mimetype": "text/x-python",
   "name": "python",
   "nbconvert_exporter": "python",
   "pygments_lexer": "ipython3",
   "version": "3.7.3"
  },
  "toc": {
   "base_numbering": 1,
   "nav_menu": {},
   "number_sections": false,
   "sideBar": true,
   "skip_h1_title": false,
   "title_cell": "Table of Contents",
   "title_sidebar": "Contents",
   "toc_cell": false,
   "toc_position": {},
   "toc_section_display": true,
   "toc_window_display": true
  }
 },
 "nbformat": 4,
 "nbformat_minor": 2
}
